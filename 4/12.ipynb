{
  "nbformat": 4,
  "nbformat_minor": 0,
  "metadata": {
    "colab": {
      "name": "Untitled7.ipynb",
      "provenance": [],
      "authorship_tag": "ABX9TyOcQh/T7ZDfGe5e0DFLeyTu",
      "include_colab_link": true
    },
    "kernelspec": {
      "name": "python3",
      "display_name": "Python 3"
    }
  },
  "cells": [
    {
      "cell_type": "markdown",
      "metadata": {
        "id": "view-in-github",
        "colab_type": "text"
      },
      "source": [
        "<a href=\"https://colab.research.google.com/github/akipi-ro/b/blob/master/4/12.ipynb\" target=\"_parent\"><img src=\"https://colab.research.google.com/assets/colab-badge.svg\" alt=\"Open In Colab\"/></a>"
      ]
    },
    {
      "cell_type": "code",
      "metadata": {
        "id": "ef_rQcpWcNDH",
        "colab_type": "code",
        "colab": {}
      },
      "source": [
        "import pandas as pd\n",
        "\n",
        "\n",
        "df1 = pd.DataFrame({\n",
        "    \"A\": [\"A0\", \"A1\", \"A2\"],\n",
        "    \"B\": [\"B0\", \"B1\", \"B2\"],\n",
        "    \"C\": [\"C0\", \"C1\", \"C2\"]})\n",
        "\n",
        "df2 = pd.DataFrame({\n",
        "    \"A\": [\"A3\", \"A4\", \"A5\"],\n",
        "    \"B\": [\"B3\", \"B4\", \"B5\"],\n",
        "    \"C\": [\"C3\", \"C4\", \"C5\"]})\n",
        "\n",
        "df3 = pd.DataFrame({\n",
        "    \"A\": [\"A3\", \"A4\", \"A5\"],\n",
        "    \"B\": [\"B3\", \"B4\", \"B5\"],\n",
        "    \"D\": [\"D3\", \"D4\", \"D5\"]})"
      ],
      "execution_count": 0,
      "outputs": []
    },
    {
      "cell_type": "code",
      "metadata": {
        "id": "0rLBLNg8cZCR",
        "colab_type": "code",
        "colab": {
          "base_uri": "https://localhost:8080/",
          "height": 227
        },
        "outputId": "aebae4e6-2a78-48fc-e33a-00b2ad60333f"
      },
      "source": [
        " df1_df2 = df1.append(df2)\n",
        " df1_df2= df1_df2.reset_index(drop=True)\n",
        " df1_df2"
      ],
      "execution_count": 10,
      "outputs": [
        {
          "output_type": "execute_result",
          "data": {
            "text/html": [
              "<div>\n",
              "<style scoped>\n",
              "    .dataframe tbody tr th:only-of-type {\n",
              "        vertical-align: middle;\n",
              "    }\n",
              "\n",
              "    .dataframe tbody tr th {\n",
              "        vertical-align: top;\n",
              "    }\n",
              "\n",
              "    .dataframe thead th {\n",
              "        text-align: right;\n",
              "    }\n",
              "</style>\n",
              "<table border=\"1\" class=\"dataframe\">\n",
              "  <thead>\n",
              "    <tr style=\"text-align: right;\">\n",
              "      <th></th>\n",
              "      <th>A</th>\n",
              "      <th>B</th>\n",
              "      <th>C</th>\n",
              "    </tr>\n",
              "  </thead>\n",
              "  <tbody>\n",
              "    <tr>\n",
              "      <th>0</th>\n",
              "      <td>A0</td>\n",
              "      <td>B0</td>\n",
              "      <td>C0</td>\n",
              "    </tr>\n",
              "    <tr>\n",
              "      <th>1</th>\n",
              "      <td>A1</td>\n",
              "      <td>B1</td>\n",
              "      <td>C1</td>\n",
              "    </tr>\n",
              "    <tr>\n",
              "      <th>2</th>\n",
              "      <td>A2</td>\n",
              "      <td>B2</td>\n",
              "      <td>C2</td>\n",
              "    </tr>\n",
              "    <tr>\n",
              "      <th>3</th>\n",
              "      <td>A3</td>\n",
              "      <td>B3</td>\n",
              "      <td>C3</td>\n",
              "    </tr>\n",
              "    <tr>\n",
              "      <th>4</th>\n",
              "      <td>A4</td>\n",
              "      <td>B4</td>\n",
              "      <td>C4</td>\n",
              "    </tr>\n",
              "    <tr>\n",
              "      <th>5</th>\n",
              "      <td>A5</td>\n",
              "      <td>B5</td>\n",
              "      <td>C5</td>\n",
              "    </tr>\n",
              "  </tbody>\n",
              "</table>\n",
              "</div>"
            ],
            "text/plain": [
              "    A   B   C\n",
              "0  A0  B0  C0\n",
              "1  A1  B1  C1\n",
              "2  A2  B2  C2\n",
              "3  A3  B3  C3\n",
              "4  A4  B4  C4\n",
              "5  A5  B5  C5"
            ]
          },
          "metadata": {
            "tags": []
          },
          "execution_count": 10
        }
      ]
    },
    {
      "cell_type": "code",
      "metadata": {
        "id": "I0yjO-e4cZHd",
        "colab_type": "code",
        "colab": {
          "base_uri": "https://localhost:8080/",
          "height": 137
        },
        "outputId": "ed218018-c71e-48f2-87d2-311a1bb63aa3"
      },
      "source": [
        "# df1_df3 = pd.concat([df1,df3],sort=True)\n",
        "df1_df3 = pd.concat([df1,df3],axis=1)#よこ\n",
        "df1_df3 = df1_df3.reset_index(drop=True)\n",
        "df1_df3 "
      ],
      "execution_count": 15,
      "outputs": [
        {
          "output_type": "execute_result",
          "data": {
            "text/html": [
              "<div>\n",
              "<style scoped>\n",
              "    .dataframe tbody tr th:only-of-type {\n",
              "        vertical-align: middle;\n",
              "    }\n",
              "\n",
              "    .dataframe tbody tr th {\n",
              "        vertical-align: top;\n",
              "    }\n",
              "\n",
              "    .dataframe thead th {\n",
              "        text-align: right;\n",
              "    }\n",
              "</style>\n",
              "<table border=\"1\" class=\"dataframe\">\n",
              "  <thead>\n",
              "    <tr style=\"text-align: right;\">\n",
              "      <th></th>\n",
              "      <th>A</th>\n",
              "      <th>B</th>\n",
              "      <th>C</th>\n",
              "      <th>A</th>\n",
              "      <th>B</th>\n",
              "      <th>D</th>\n",
              "    </tr>\n",
              "  </thead>\n",
              "  <tbody>\n",
              "    <tr>\n",
              "      <th>0</th>\n",
              "      <td>A0</td>\n",
              "      <td>B0</td>\n",
              "      <td>C0</td>\n",
              "      <td>A3</td>\n",
              "      <td>B3</td>\n",
              "      <td>D3</td>\n",
              "    </tr>\n",
              "    <tr>\n",
              "      <th>1</th>\n",
              "      <td>A1</td>\n",
              "      <td>B1</td>\n",
              "      <td>C1</td>\n",
              "      <td>A4</td>\n",
              "      <td>B4</td>\n",
              "      <td>D4</td>\n",
              "    </tr>\n",
              "    <tr>\n",
              "      <th>2</th>\n",
              "      <td>A2</td>\n",
              "      <td>B2</td>\n",
              "      <td>C2</td>\n",
              "      <td>A5</td>\n",
              "      <td>B5</td>\n",
              "      <td>D5</td>\n",
              "    </tr>\n",
              "  </tbody>\n",
              "</table>\n",
              "</div>"
            ],
            "text/plain": [
              "    A   B   C   A   B   D\n",
              "0  A0  B0  C0  A3  B3  D3\n",
              "1  A1  B1  C1  A4  B4  D4\n",
              "2  A2  B2  C2  A5  B5  D5"
            ]
          },
          "metadata": {
            "tags": []
          },
          "execution_count": 15
        }
      ]
    },
    {
      "cell_type": "code",
      "metadata": {
        "id": "LnhKxoLocZBZ",
        "colab_type": "code",
        "colab": {
          "base_uri": "https://localhost:8080/",
          "height": 317
        },
        "outputId": "ec6a6454-a366-43c8-f94d-40ef1110855d"
      },
      "source": [
        "df1_df2_df3 = pd.concat([df1, df2, df3], sort = True)\n",
        "df1_df2_df3 = df1_df2_df3.reset_index(drop = True)\n",
        "df1_df2_df3"
      ],
      "execution_count": 18,
      "outputs": [
        {
          "output_type": "execute_result",
          "data": {
            "text/html": [
              "<div>\n",
              "<style scoped>\n",
              "    .dataframe tbody tr th:only-of-type {\n",
              "        vertical-align: middle;\n",
              "    }\n",
              "\n",
              "    .dataframe tbody tr th {\n",
              "        vertical-align: top;\n",
              "    }\n",
              "\n",
              "    .dataframe thead th {\n",
              "        text-align: right;\n",
              "    }\n",
              "</style>\n",
              "<table border=\"1\" class=\"dataframe\">\n",
              "  <thead>\n",
              "    <tr style=\"text-align: right;\">\n",
              "      <th></th>\n",
              "      <th>A</th>\n",
              "      <th>B</th>\n",
              "      <th>C</th>\n",
              "      <th>D</th>\n",
              "    </tr>\n",
              "  </thead>\n",
              "  <tbody>\n",
              "    <tr>\n",
              "      <th>0</th>\n",
              "      <td>A0</td>\n",
              "      <td>B0</td>\n",
              "      <td>C0</td>\n",
              "      <td>NaN</td>\n",
              "    </tr>\n",
              "    <tr>\n",
              "      <th>1</th>\n",
              "      <td>A1</td>\n",
              "      <td>B1</td>\n",
              "      <td>C1</td>\n",
              "      <td>NaN</td>\n",
              "    </tr>\n",
              "    <tr>\n",
              "      <th>2</th>\n",
              "      <td>A2</td>\n",
              "      <td>B2</td>\n",
              "      <td>C2</td>\n",
              "      <td>NaN</td>\n",
              "    </tr>\n",
              "    <tr>\n",
              "      <th>3</th>\n",
              "      <td>A3</td>\n",
              "      <td>B3</td>\n",
              "      <td>C3</td>\n",
              "      <td>NaN</td>\n",
              "    </tr>\n",
              "    <tr>\n",
              "      <th>4</th>\n",
              "      <td>A4</td>\n",
              "      <td>B4</td>\n",
              "      <td>C4</td>\n",
              "      <td>NaN</td>\n",
              "    </tr>\n",
              "    <tr>\n",
              "      <th>5</th>\n",
              "      <td>A5</td>\n",
              "      <td>B5</td>\n",
              "      <td>C5</td>\n",
              "      <td>NaN</td>\n",
              "    </tr>\n",
              "    <tr>\n",
              "      <th>6</th>\n",
              "      <td>A3</td>\n",
              "      <td>B3</td>\n",
              "      <td>NaN</td>\n",
              "      <td>D3</td>\n",
              "    </tr>\n",
              "    <tr>\n",
              "      <th>7</th>\n",
              "      <td>A4</td>\n",
              "      <td>B4</td>\n",
              "      <td>NaN</td>\n",
              "      <td>D4</td>\n",
              "    </tr>\n",
              "    <tr>\n",
              "      <th>8</th>\n",
              "      <td>A5</td>\n",
              "      <td>B5</td>\n",
              "      <td>NaN</td>\n",
              "      <td>D5</td>\n",
              "    </tr>\n",
              "  </tbody>\n",
              "</table>\n",
              "</div>"
            ],
            "text/plain": [
              "    A   B    C    D\n",
              "0  A0  B0   C0  NaN\n",
              "1  A1  B1   C1  NaN\n",
              "2  A2  B2   C2  NaN\n",
              "3  A3  B3   C3  NaN\n",
              "4  A4  B4   C4  NaN\n",
              "5  A5  B5   C5  NaN\n",
              "6  A3  B3  NaN   D3\n",
              "7  A4  B4  NaN   D4\n",
              "8  A5  B5  NaN   D5"
            ]
          },
          "metadata": {
            "tags": []
          },
          "execution_count": 18
        }
      ]
    },
    {
      "cell_type": "code",
      "metadata": {
        "id": "e_duEU_8f_S9",
        "colab_type": "code",
        "colab": {}
      },
      "source": [
        "df4 = pd.DataFrame({\n",
        "    \"A\":  [\"A0\", \"A1\", \"A2\", \"A3\"],\n",
        "    \"B\": [\"B0\", \"B1\", \"B2\", \"B3\"],\n",
        "    \"K\": [\"K0\", \"K1\", \"K2\", \"K3\"]})\n",
        "\n",
        "df5 = pd.DataFrame({\n",
        "    \"K\": [\"K0\", \"K1\", \"K3\", \"K4\"],\n",
        "    \"C\": [\"C0\", \"C1\", \"C3\", \"C4\"],\n",
        "    \"D\": [\"D0\", \"D1\", \"D3\", \"D4\"]},\n",
        "    index=[0, 1, 3, 4])"
      ],
      "execution_count": 0,
      "outputs": []
    },
    {
      "cell_type": "code",
      "metadata": {
        "id": "dS115jSZi2jK",
        "colab_type": "code",
        "colab": {
          "base_uri": "https://localhost:8080/",
          "height": 197
        },
        "outputId": "c8bb8de7-571a-4e10-8e5d-e9dfb68c7244"
      },
      "source": [
        "df4_df5 = pd.merge(df4,df5,on = \"K\", how = \"outer\")\n",
        "df4_df5"
      ],
      "execution_count": 30,
      "outputs": [
        {
          "output_type": "execute_result",
          "data": {
            "text/html": [
              "<div>\n",
              "<style scoped>\n",
              "    .dataframe tbody tr th:only-of-type {\n",
              "        vertical-align: middle;\n",
              "    }\n",
              "\n",
              "    .dataframe tbody tr th {\n",
              "        vertical-align: top;\n",
              "    }\n",
              "\n",
              "    .dataframe thead th {\n",
              "        text-align: right;\n",
              "    }\n",
              "</style>\n",
              "<table border=\"1\" class=\"dataframe\">\n",
              "  <thead>\n",
              "    <tr style=\"text-align: right;\">\n",
              "      <th></th>\n",
              "      <th>A</th>\n",
              "      <th>B</th>\n",
              "      <th>K</th>\n",
              "      <th>C</th>\n",
              "      <th>D</th>\n",
              "    </tr>\n",
              "  </thead>\n",
              "  <tbody>\n",
              "    <tr>\n",
              "      <th>0</th>\n",
              "      <td>A0</td>\n",
              "      <td>B0</td>\n",
              "      <td>K0</td>\n",
              "      <td>C0</td>\n",
              "      <td>D0</td>\n",
              "    </tr>\n",
              "    <tr>\n",
              "      <th>1</th>\n",
              "      <td>A1</td>\n",
              "      <td>B1</td>\n",
              "      <td>K1</td>\n",
              "      <td>C1</td>\n",
              "      <td>D1</td>\n",
              "    </tr>\n",
              "    <tr>\n",
              "      <th>2</th>\n",
              "      <td>A2</td>\n",
              "      <td>B2</td>\n",
              "      <td>K2</td>\n",
              "      <td>NaN</td>\n",
              "      <td>NaN</td>\n",
              "    </tr>\n",
              "    <tr>\n",
              "      <th>3</th>\n",
              "      <td>A3</td>\n",
              "      <td>B3</td>\n",
              "      <td>K3</td>\n",
              "      <td>C3</td>\n",
              "      <td>D3</td>\n",
              "    </tr>\n",
              "    <tr>\n",
              "      <th>4</th>\n",
              "      <td>NaN</td>\n",
              "      <td>NaN</td>\n",
              "      <td>K4</td>\n",
              "      <td>C4</td>\n",
              "      <td>D4</td>\n",
              "    </tr>\n",
              "  </tbody>\n",
              "</table>\n",
              "</div>"
            ],
            "text/plain": [
              "     A    B   K    C    D\n",
              "0   A0   B0  K0   C0   D0\n",
              "1   A1   B1  K1   C1   D1\n",
              "2   A2   B2  K2  NaN  NaN\n",
              "3   A3   B3  K3   C3   D3\n",
              "4  NaN  NaN  K4   C4   D4"
            ]
          },
          "metadata": {
            "tags": []
          },
          "execution_count": 30
        }
      ]
    },
    {
      "cell_type": "code",
      "metadata": {
        "id": "m9P5W_29jDG_",
        "colab_type": "code",
        "colab": {
          "base_uri": "https://localhost:8080/",
          "height": 167
        },
        "outputId": "0290fb8a-01a2-4690-9fc7-6fe987dd689b"
      },
      "source": [
        "df6 = pd.DataFrame({\n",
        "    \"A\": [\"A0\", \"A1\", \"A2\", \"A3\"],\n",
        "    \"B\": [\"B0\", \"B1\", \"B2\", \"B3\"],\n",
        "    \"K\": [\"K0\", \"K1\", \"K2\", \"K3\"],\n",
        "    \"M\": [\"M0\", \"M1\", \"M2\", \"M3\"]})\n",
        "\n",
        "df7 = pd.DataFrame({\n",
        "    \"K\": [\"K0\", \"K1\", \"K3\", \"K4\"],\n",
        "    \"M\": [\"M0\", \"M1\", \"M3\", \"M4\"],\n",
        "    \"C\": [\"C0\", \"C1\", \"C3\", \"C4\"],\n",
        "    \"D\": [\"D0\", \"D1\", \"D3\", \"D4\"]},\n",
        "    index=[0, 1, 3, 4])\n"
      ],
      "execution_count": 35,
      "outputs": [
        {
          "output_type": "execute_result",
          "data": {
            "text/html": [
              "<div>\n",
              "<style scoped>\n",
              "    .dataframe tbody tr th:only-of-type {\n",
              "        vertical-align: middle;\n",
              "    }\n",
              "\n",
              "    .dataframe tbody tr th {\n",
              "        vertical-align: top;\n",
              "    }\n",
              "\n",
              "    .dataframe thead th {\n",
              "        text-align: right;\n",
              "    }\n",
              "</style>\n",
              "<table border=\"1\" class=\"dataframe\">\n",
              "  <thead>\n",
              "    <tr style=\"text-align: right;\">\n",
              "      <th></th>\n",
              "      <th>K</th>\n",
              "      <th>M</th>\n",
              "      <th>C</th>\n",
              "      <th>D</th>\n",
              "    </tr>\n",
              "  </thead>\n",
              "  <tbody>\n",
              "    <tr>\n",
              "      <th>0</th>\n",
              "      <td>K0</td>\n",
              "      <td>M0</td>\n",
              "      <td>C0</td>\n",
              "      <td>D0</td>\n",
              "    </tr>\n",
              "    <tr>\n",
              "      <th>1</th>\n",
              "      <td>K1</td>\n",
              "      <td>M1</td>\n",
              "      <td>C1</td>\n",
              "      <td>D1</td>\n",
              "    </tr>\n",
              "    <tr>\n",
              "      <th>3</th>\n",
              "      <td>K3</td>\n",
              "      <td>M3</td>\n",
              "      <td>C3</td>\n",
              "      <td>D3</td>\n",
              "    </tr>\n",
              "    <tr>\n",
              "      <th>4</th>\n",
              "      <td>K4</td>\n",
              "      <td>M4</td>\n",
              "      <td>C4</td>\n",
              "      <td>D4</td>\n",
              "    </tr>\n",
              "  </tbody>\n",
              "</table>\n",
              "</div>"
            ],
            "text/plain": [
              "    K   M   C   D\n",
              "0  K0  M0  C0  D0\n",
              "1  K1  M1  C1  D1\n",
              "3  K3  M3  C3  D3\n",
              "4  K4  M4  C4  D4"
            ]
          },
          "metadata": {
            "tags": []
          },
          "execution_count": 35
        }
      ]
    },
    {
      "cell_type": "code",
      "metadata": {
        "id": "CbXXRRcNlzGh",
        "colab_type": "code",
        "colab": {
          "base_uri": "https://localhost:8080/",
          "height": 167
        },
        "outputId": "7a30348d-50f0-4590-af7e-6a79d0a1709b"
      },
      "source": [
        "df6"
      ],
      "execution_count": 36,
      "outputs": [
        {
          "output_type": "execute_result",
          "data": {
            "text/html": [
              "<div>\n",
              "<style scoped>\n",
              "    .dataframe tbody tr th:only-of-type {\n",
              "        vertical-align: middle;\n",
              "    }\n",
              "\n",
              "    .dataframe tbody tr th {\n",
              "        vertical-align: top;\n",
              "    }\n",
              "\n",
              "    .dataframe thead th {\n",
              "        text-align: right;\n",
              "    }\n",
              "</style>\n",
              "<table border=\"1\" class=\"dataframe\">\n",
              "  <thead>\n",
              "    <tr style=\"text-align: right;\">\n",
              "      <th></th>\n",
              "      <th>A</th>\n",
              "      <th>B</th>\n",
              "      <th>K</th>\n",
              "      <th>M</th>\n",
              "    </tr>\n",
              "  </thead>\n",
              "  <tbody>\n",
              "    <tr>\n",
              "      <th>0</th>\n",
              "      <td>A0</td>\n",
              "      <td>B0</td>\n",
              "      <td>K0</td>\n",
              "      <td>M0</td>\n",
              "    </tr>\n",
              "    <tr>\n",
              "      <th>1</th>\n",
              "      <td>A1</td>\n",
              "      <td>B1</td>\n",
              "      <td>K1</td>\n",
              "      <td>M1</td>\n",
              "    </tr>\n",
              "    <tr>\n",
              "      <th>2</th>\n",
              "      <td>A2</td>\n",
              "      <td>B2</td>\n",
              "      <td>K2</td>\n",
              "      <td>M2</td>\n",
              "    </tr>\n",
              "    <tr>\n",
              "      <th>3</th>\n",
              "      <td>A3</td>\n",
              "      <td>B3</td>\n",
              "      <td>K3</td>\n",
              "      <td>M3</td>\n",
              "    </tr>\n",
              "  </tbody>\n",
              "</table>\n",
              "</div>"
            ],
            "text/plain": [
              "    A   B   K   M\n",
              "0  A0  B0  K0  M0\n",
              "1  A1  B1  K1  M1\n",
              "2  A2  B2  K2  M2\n",
              "3  A3  B3  K3  M3"
            ]
          },
          "metadata": {
            "tags": []
          },
          "execution_count": 36
        }
      ]
    },
    {
      "cell_type": "code",
      "metadata": {
        "id": "YCQPeYU2lJxY",
        "colab_type": "code",
        "colab": {
          "base_uri": "https://localhost:8080/",
          "height": 137
        },
        "outputId": "2b8d3ab2-f2b4-43c6-b3cc-bf9a53e15351"
      },
      "source": [
        "df6_df7 = pd.merge(df6, df7, on=[\"K\", \"M\"], how=\"inner\")\n",
        "df6_df7"
      ],
      "execution_count": 37,
      "outputs": [
        {
          "output_type": "execute_result",
          "data": {
            "text/html": [
              "<div>\n",
              "<style scoped>\n",
              "    .dataframe tbody tr th:only-of-type {\n",
              "        vertical-align: middle;\n",
              "    }\n",
              "\n",
              "    .dataframe tbody tr th {\n",
              "        vertical-align: top;\n",
              "    }\n",
              "\n",
              "    .dataframe thead th {\n",
              "        text-align: right;\n",
              "    }\n",
              "</style>\n",
              "<table border=\"1\" class=\"dataframe\">\n",
              "  <thead>\n",
              "    <tr style=\"text-align: right;\">\n",
              "      <th></th>\n",
              "      <th>A</th>\n",
              "      <th>B</th>\n",
              "      <th>K</th>\n",
              "      <th>M</th>\n",
              "      <th>C</th>\n",
              "      <th>D</th>\n",
              "    </tr>\n",
              "  </thead>\n",
              "  <tbody>\n",
              "    <tr>\n",
              "      <th>0</th>\n",
              "      <td>A0</td>\n",
              "      <td>B0</td>\n",
              "      <td>K0</td>\n",
              "      <td>M0</td>\n",
              "      <td>C0</td>\n",
              "      <td>D0</td>\n",
              "    </tr>\n",
              "    <tr>\n",
              "      <th>1</th>\n",
              "      <td>A1</td>\n",
              "      <td>B1</td>\n",
              "      <td>K1</td>\n",
              "      <td>M1</td>\n",
              "      <td>C1</td>\n",
              "      <td>D1</td>\n",
              "    </tr>\n",
              "    <tr>\n",
              "      <th>2</th>\n",
              "      <td>A3</td>\n",
              "      <td>B3</td>\n",
              "      <td>K3</td>\n",
              "      <td>M3</td>\n",
              "      <td>C3</td>\n",
              "      <td>D3</td>\n",
              "    </tr>\n",
              "  </tbody>\n",
              "</table>\n",
              "</div>"
            ],
            "text/plain": [
              "    A   B   K   M   C   D\n",
              "0  A0  B0  K0  M0  C0  D0\n",
              "1  A1  B1  K1  M1  C1  D1\n",
              "2  A3  B3  K3  M3  C3  D3"
            ]
          },
          "metadata": {
            "tags": []
          },
          "execution_count": 37
        }
      ]
    },
    {
      "cell_type": "code",
      "metadata": {
        "id": "z281GppQlLNn",
        "colab_type": "code",
        "colab": {
          "base_uri": "https://localhost:8080/",
          "height": 167
        },
        "outputId": "0b286652-3851-476e-d940-3a79bca1a416"
      },
      "source": [
        "df8 = pd.DataFrame({\n",
        "    \"A\": [\"A0\", \"A1\", \"A2\"],\n",
        "    'B': [\"B0\", \"B1\", \"B2\"]})\n",
        "df9 = pd.DataFrame({\n",
        "    \"C\": [\"C0\", \"C2\", \"C3\"],\n",
        "    'D': [\"D0\", \"D2\", \"D3\"]},\n",
        "    index=[0, 2, 3])\n",
        "\n",
        "df8.join(df9,how=\"outer\")"
      ],
      "execution_count": 38,
      "outputs": [
        {
          "output_type": "execute_result",
          "data": {
            "text/html": [
              "<div>\n",
              "<style scoped>\n",
              "    .dataframe tbody tr th:only-of-type {\n",
              "        vertical-align: middle;\n",
              "    }\n",
              "\n",
              "    .dataframe tbody tr th {\n",
              "        vertical-align: top;\n",
              "    }\n",
              "\n",
              "    .dataframe thead th {\n",
              "        text-align: right;\n",
              "    }\n",
              "</style>\n",
              "<table border=\"1\" class=\"dataframe\">\n",
              "  <thead>\n",
              "    <tr style=\"text-align: right;\">\n",
              "      <th></th>\n",
              "      <th>A</th>\n",
              "      <th>B</th>\n",
              "      <th>C</th>\n",
              "      <th>D</th>\n",
              "    </tr>\n",
              "  </thead>\n",
              "  <tbody>\n",
              "    <tr>\n",
              "      <th>0</th>\n",
              "      <td>A0</td>\n",
              "      <td>B0</td>\n",
              "      <td>C0</td>\n",
              "      <td>D0</td>\n",
              "    </tr>\n",
              "    <tr>\n",
              "      <th>1</th>\n",
              "      <td>A1</td>\n",
              "      <td>B1</td>\n",
              "      <td>NaN</td>\n",
              "      <td>NaN</td>\n",
              "    </tr>\n",
              "    <tr>\n",
              "      <th>2</th>\n",
              "      <td>A2</td>\n",
              "      <td>B2</td>\n",
              "      <td>C2</td>\n",
              "      <td>D2</td>\n",
              "    </tr>\n",
              "    <tr>\n",
              "      <th>3</th>\n",
              "      <td>NaN</td>\n",
              "      <td>NaN</td>\n",
              "      <td>C3</td>\n",
              "      <td>D3</td>\n",
              "    </tr>\n",
              "  </tbody>\n",
              "</table>\n",
              "</div>"
            ],
            "text/plain": [
              "     A    B    C    D\n",
              "0   A0   B0   C0   D0\n",
              "1   A1   B1  NaN  NaN\n",
              "2   A2   B2   C2   D2\n",
              "3  NaN  NaN   C3   D3"
            ]
          },
          "metadata": {
            "tags": []
          },
          "execution_count": 38
        }
      ]
    },
    {
      "cell_type": "code",
      "metadata": {
        "id": "OCy9emtvnATB",
        "colab_type": "code",
        "colab": {
          "base_uri": "https://localhost:8080/",
          "height": 167
        },
        "outputId": "a8131e9d-0bf8-458b-ebb7-2939cb5730ea"
      },
      "source": [
        "df1= pd.read_csv(\"kansai.csv\")\n",
        "df2= pd.read_csv(\"kanto.csv\")\n",
        "df1"
      ],
      "execution_count": 22,
      "outputs": [
        {
          "output_type": "execute_result",
          "data": {
            "text/html": [
              "<div>\n",
              "<style scoped>\n",
              "    .dataframe tbody tr th:only-of-type {\n",
              "        vertical-align: middle;\n",
              "    }\n",
              "\n",
              "    .dataframe tbody tr th {\n",
              "        vertical-align: top;\n",
              "    }\n",
              "\n",
              "    .dataframe thead th {\n",
              "        text-align: right;\n",
              "    }\n",
              "</style>\n",
              "<table border=\"1\" class=\"dataframe\">\n",
              "  <thead>\n",
              "    <tr style=\"text-align: right;\">\n",
              "      <th></th>\n",
              "      <th>prefecture</th>\n",
              "      <th>region</th>\n",
              "      <th>capital_city</th>\n",
              "      <th>major_station_1</th>\n",
              "    </tr>\n",
              "  </thead>\n",
              "  <tbody>\n",
              "    <tr>\n",
              "      <th>0</th>\n",
              "      <td>Osaka</td>\n",
              "      <td>Kansai</td>\n",
              "      <td>Osaka</td>\n",
              "      <td>Umeda</td>\n",
              "    </tr>\n",
              "    <tr>\n",
              "      <th>1</th>\n",
              "      <td>Kyoto</td>\n",
              "      <td>Kansai</td>\n",
              "      <td>Kyoto</td>\n",
              "      <td>Kyoto</td>\n",
              "    </tr>\n",
              "    <tr>\n",
              "      <th>2</th>\n",
              "      <td>Nara</td>\n",
              "      <td>Kansai</td>\n",
              "      <td>Nara</td>\n",
              "      <td>Nara</td>\n",
              "    </tr>\n",
              "    <tr>\n",
              "      <th>3</th>\n",
              "      <td>Hyogo</td>\n",
              "      <td>Kansai</td>\n",
              "      <td>Kobe</td>\n",
              "      <td>Kobe</td>\n",
              "    </tr>\n",
              "  </tbody>\n",
              "</table>\n",
              "</div>"
            ],
            "text/plain": [
              "  prefecture  region capital_city major_station_1\n",
              "0      Osaka  Kansai        Osaka           Umeda\n",
              "1      Kyoto  Kansai        Kyoto           Kyoto\n",
              "2       Nara  Kansai         Nara            Nara\n",
              "3      Hyogo  Kansai         Kobe            Kobe"
            ]
          },
          "metadata": {
            "tags": []
          },
          "execution_count": 22
        }
      ]
    },
    {
      "cell_type": "code",
      "metadata": {
        "id": "m6zaF6VRn7tD",
        "colab_type": "code",
        "colab": {
          "base_uri": "https://localhost:8080/",
          "height": 137
        },
        "outputId": "eb8e939c-f78f-4bc4-8075-974831aa59a7"
      },
      "source": [
        "df2"
      ],
      "execution_count": 33,
      "outputs": [
        {
          "output_type": "execute_result",
          "data": {
            "text/html": [
              "<div>\n",
              "<style scoped>\n",
              "    .dataframe tbody tr th:only-of-type {\n",
              "        vertical-align: middle;\n",
              "    }\n",
              "\n",
              "    .dataframe tbody tr th {\n",
              "        vertical-align: top;\n",
              "    }\n",
              "\n",
              "    .dataframe thead th {\n",
              "        text-align: right;\n",
              "    }\n",
              "</style>\n",
              "<table border=\"1\" class=\"dataframe\">\n",
              "  <thead>\n",
              "    <tr style=\"text-align: right;\">\n",
              "      <th></th>\n",
              "      <th>prefecture</th>\n",
              "      <th>region</th>\n",
              "      <th>capital_city</th>\n",
              "      <th>major_station_1</th>\n",
              "      <th>major_station_2</th>\n",
              "    </tr>\n",
              "  </thead>\n",
              "  <tbody>\n",
              "    <tr>\n",
              "      <th>0</th>\n",
              "      <td>Tokyo</td>\n",
              "      <td>Kanto</td>\n",
              "      <td>Tokyo</td>\n",
              "      <td>Tokyo</td>\n",
              "      <td>Shinjuku</td>\n",
              "    </tr>\n",
              "    <tr>\n",
              "      <th>1</th>\n",
              "      <td>Saitama</td>\n",
              "      <td>Kanto</td>\n",
              "      <td>Saitama</td>\n",
              "      <td>Omiya</td>\n",
              "      <td>Urawa</td>\n",
              "    </tr>\n",
              "    <tr>\n",
              "      <th>2</th>\n",
              "      <td>Kanagawa</td>\n",
              "      <td>Kanto</td>\n",
              "      <td>Yokohama</td>\n",
              "      <td>Yokohama</td>\n",
              "      <td>Kawasaki</td>\n",
              "    </tr>\n",
              "  </tbody>\n",
              "</table>\n",
              "</div>"
            ],
            "text/plain": [
              "  prefecture region capital_city major_station_1 major_station_2\n",
              "0      Tokyo  Kanto        Tokyo           Tokyo        Shinjuku\n",
              "1    Saitama  Kanto      Saitama           Omiya           Urawa\n",
              "2   Kanagawa  Kanto     Yokohama        Yokohama        Kawasaki"
            ]
          },
          "metadata": {
            "tags": []
          },
          "execution_count": 33
        }
      ]
    },
    {
      "cell_type": "markdown",
      "metadata": {
        "id": "WfFnFqNSpt0b",
        "colab_type": "text"
      },
      "source": [
        ""
      ]
    },
    {
      "cell_type": "code",
      "metadata": {
        "id": "GGV3BNNsoDV4",
        "colab_type": "code",
        "colab": {
          "base_uri": "https://localhost:8080/",
          "height": 257
        },
        "outputId": "b77877d5-f624-4ef8-d6fb-44f694e41615"
      },
      "source": [
        "# df1_df2 = pd.concat([df1,df2],sort = True)　こうするとアルファベット順になってしまう\n",
        "df1_df2 = pd.concat([df1,df2],sort = False)\n",
        "df1_df2 = df1_df2.reset_index(drop = True)\n",
        "df1_df2\n",
        "# pd.concat()"
      ],
      "execution_count": 34,
      "outputs": [
        {
          "output_type": "execute_result",
          "data": {
            "text/html": [
              "<div>\n",
              "<style scoped>\n",
              "    .dataframe tbody tr th:only-of-type {\n",
              "        vertical-align: middle;\n",
              "    }\n",
              "\n",
              "    .dataframe tbody tr th {\n",
              "        vertical-align: top;\n",
              "    }\n",
              "\n",
              "    .dataframe thead th {\n",
              "        text-align: right;\n",
              "    }\n",
              "</style>\n",
              "<table border=\"1\" class=\"dataframe\">\n",
              "  <thead>\n",
              "    <tr style=\"text-align: right;\">\n",
              "      <th></th>\n",
              "      <th>prefecture</th>\n",
              "      <th>region</th>\n",
              "      <th>capital_city</th>\n",
              "      <th>major_station_1</th>\n",
              "      <th>major_station_2</th>\n",
              "    </tr>\n",
              "  </thead>\n",
              "  <tbody>\n",
              "    <tr>\n",
              "      <th>0</th>\n",
              "      <td>Osaka</td>\n",
              "      <td>Kansai</td>\n",
              "      <td>Osaka</td>\n",
              "      <td>Umeda</td>\n",
              "      <td>NaN</td>\n",
              "    </tr>\n",
              "    <tr>\n",
              "      <th>1</th>\n",
              "      <td>Kyoto</td>\n",
              "      <td>Kansai</td>\n",
              "      <td>Kyoto</td>\n",
              "      <td>Kyoto</td>\n",
              "      <td>NaN</td>\n",
              "    </tr>\n",
              "    <tr>\n",
              "      <th>2</th>\n",
              "      <td>Nara</td>\n",
              "      <td>Kansai</td>\n",
              "      <td>Nara</td>\n",
              "      <td>Nara</td>\n",
              "      <td>NaN</td>\n",
              "    </tr>\n",
              "    <tr>\n",
              "      <th>3</th>\n",
              "      <td>Hyogo</td>\n",
              "      <td>Kansai</td>\n",
              "      <td>Kobe</td>\n",
              "      <td>Kobe</td>\n",
              "      <td>NaN</td>\n",
              "    </tr>\n",
              "    <tr>\n",
              "      <th>4</th>\n",
              "      <td>Tokyo</td>\n",
              "      <td>Kanto</td>\n",
              "      <td>Tokyo</td>\n",
              "      <td>Tokyo</td>\n",
              "      <td>Shinjuku</td>\n",
              "    </tr>\n",
              "    <tr>\n",
              "      <th>5</th>\n",
              "      <td>Saitama</td>\n",
              "      <td>Kanto</td>\n",
              "      <td>Saitama</td>\n",
              "      <td>Omiya</td>\n",
              "      <td>Urawa</td>\n",
              "    </tr>\n",
              "    <tr>\n",
              "      <th>6</th>\n",
              "      <td>Kanagawa</td>\n",
              "      <td>Kanto</td>\n",
              "      <td>Yokohama</td>\n",
              "      <td>Yokohama</td>\n",
              "      <td>Kawasaki</td>\n",
              "    </tr>\n",
              "  </tbody>\n",
              "</table>\n",
              "</div>"
            ],
            "text/plain": [
              "  prefecture  region capital_city major_station_1 major_station_2\n",
              "0      Osaka  Kansai        Osaka           Umeda             NaN\n",
              "1      Kyoto  Kansai        Kyoto           Kyoto             NaN\n",
              "2       Nara  Kansai         Nara            Nara             NaN\n",
              "3      Hyogo  Kansai         Kobe            Kobe             NaN\n",
              "4      Tokyo   Kanto        Tokyo           Tokyo        Shinjuku\n",
              "5    Saitama   Kanto      Saitama           Omiya           Urawa\n",
              "6   Kanagawa   Kanto     Yokohama        Yokohama        Kawasaki"
            ]
          },
          "metadata": {
            "tags": []
          },
          "execution_count": 34
        }
      ]
    },
    {
      "cell_type": "code",
      "metadata": {
        "id": "1c7r3ExqnaOA",
        "colab_type": "code",
        "colab": {}
      },
      "source": [
        "df1_df2.fillna(\"NaN\")\n",
        "df1_df2.to_csv(\"kanto_kansai.csv\",index=False)"
      ],
      "execution_count": 0,
      "outputs": []
    },
    {
      "cell_type": "code",
      "metadata": {
        "id": "mxFZtEJ1olpG",
        "colab_type": "code",
        "colab": {}
      },
      "source": [
        "df1_df2.to_csv(\"kanto_kansai.csv\")"
      ],
      "execution_count": 0,
      "outputs": []
    },
    {
      "cell_type": "code",
      "metadata": {
        "id": "SAPY9KXcvAHj",
        "colab_type": "code",
        "colab": {}
      },
      "source": [
        "df3= pd.read_csv(\"class.csv\")\n",
        "df4= pd.read_csv(\"grade.csv\")"
      ],
      "execution_count": 0,
      "outputs": []
    },
    {
      "cell_type": "code",
      "metadata": {
        "id": "2ExIDjWHgF-9",
        "colab_type": "code",
        "colab": {
          "base_uri": "https://localhost:8080/",
          "height": 257
        },
        "outputId": "bb4b564a-69b9-46ba-d723-81aa7ead7d5e"
      },
      "source": [
        "df3"
      ],
      "execution_count": 6,
      "outputs": [
        {
          "output_type": "execute_result",
          "data": {
            "text/html": [
              "<div>\n",
              "<style scoped>\n",
              "    .dataframe tbody tr th:only-of-type {\n",
              "        vertical-align: middle;\n",
              "    }\n",
              "\n",
              "    .dataframe tbody tr th {\n",
              "        vertical-align: top;\n",
              "    }\n",
              "\n",
              "    .dataframe thead th {\n",
              "        text-align: right;\n",
              "    }\n",
              "</style>\n",
              "<table border=\"1\" class=\"dataframe\">\n",
              "  <thead>\n",
              "    <tr style=\"text-align: right;\">\n",
              "      <th></th>\n",
              "      <th>student_number</th>\n",
              "      <th>name</th>\n",
              "      <th>age</th>\n",
              "      <th>nationality</th>\n",
              "    </tr>\n",
              "  </thead>\n",
              "  <tbody>\n",
              "    <tr>\n",
              "      <th>0</th>\n",
              "      <td>1</td>\n",
              "      <td>Jack</td>\n",
              "      <td>7</td>\n",
              "      <td>England</td>\n",
              "    </tr>\n",
              "    <tr>\n",
              "      <th>1</th>\n",
              "      <td>2</td>\n",
              "      <td>John</td>\n",
              "      <td>10</td>\n",
              "      <td>United States</td>\n",
              "    </tr>\n",
              "    <tr>\n",
              "      <th>2</th>\n",
              "      <td>3</td>\n",
              "      <td>Alice</td>\n",
              "      <td>12</td>\n",
              "      <td>England</td>\n",
              "    </tr>\n",
              "    <tr>\n",
              "      <th>3</th>\n",
              "      <td>4</td>\n",
              "      <td>Bob</td>\n",
              "      <td>7</td>\n",
              "      <td>Australia</td>\n",
              "    </tr>\n",
              "    <tr>\n",
              "      <th>4</th>\n",
              "      <td>5</td>\n",
              "      <td>Dominic</td>\n",
              "      <td>8</td>\n",
              "      <td>Germany</td>\n",
              "    </tr>\n",
              "    <tr>\n",
              "      <th>5</th>\n",
              "      <td>6</td>\n",
              "      <td>Akiko</td>\n",
              "      <td>11</td>\n",
              "      <td>Japan</td>\n",
              "    </tr>\n",
              "    <tr>\n",
              "      <th>6</th>\n",
              "      <td>7</td>\n",
              "      <td>Carly</td>\n",
              "      <td>6</td>\n",
              "      <td>Canada</td>\n",
              "    </tr>\n",
              "  </tbody>\n",
              "</table>\n",
              "</div>"
            ],
            "text/plain": [
              "   student_number     name  age    nationality\n",
              "0               1     Jack    7        England\n",
              "1               2     John   10  United States\n",
              "2               3    Alice   12        England\n",
              "3               4      Bob    7      Australia\n",
              "4               5  Dominic    8        Germany\n",
              "5               6    Akiko   11          Japan\n",
              "6               7    Carly    6         Canada"
            ]
          },
          "metadata": {
            "tags": []
          },
          "execution_count": 6
        }
      ]
    },
    {
      "cell_type": "code",
      "metadata": {
        "id": "hjN-TbHPgOJ5",
        "colab_type": "code",
        "colab": {
          "base_uri": "https://localhost:8080/",
          "height": 197
        },
        "outputId": "b2f8d697-9662-4a49-aa0e-2752d6404089"
      },
      "source": [
        "df4"
      ],
      "execution_count": 7,
      "outputs": [
        {
          "output_type": "execute_result",
          "data": {
            "text/html": [
              "<div>\n",
              "<style scoped>\n",
              "    .dataframe tbody tr th:only-of-type {\n",
              "        vertical-align: middle;\n",
              "    }\n",
              "\n",
              "    .dataframe tbody tr th {\n",
              "        vertical-align: top;\n",
              "    }\n",
              "\n",
              "    .dataframe thead th {\n",
              "        text-align: right;\n",
              "    }\n",
              "</style>\n",
              "<table border=\"1\" class=\"dataframe\">\n",
              "  <thead>\n",
              "    <tr style=\"text-align: right;\">\n",
              "      <th></th>\n",
              "      <th>student_number</th>\n",
              "      <th>name</th>\n",
              "      <th>math</th>\n",
              "      <th>science</th>\n",
              "    </tr>\n",
              "  </thead>\n",
              "  <tbody>\n",
              "    <tr>\n",
              "      <th>0</th>\n",
              "      <td>1</td>\n",
              "      <td>Jack</td>\n",
              "      <td>32</td>\n",
              "      <td>19</td>\n",
              "    </tr>\n",
              "    <tr>\n",
              "      <th>1</th>\n",
              "      <td>2</td>\n",
              "      <td>John</td>\n",
              "      <td>73</td>\n",
              "      <td>63</td>\n",
              "    </tr>\n",
              "    <tr>\n",
              "      <th>2</th>\n",
              "      <td>3</td>\n",
              "      <td>Alice</td>\n",
              "      <td>90</td>\n",
              "      <td>85</td>\n",
              "    </tr>\n",
              "    <tr>\n",
              "      <th>3</th>\n",
              "      <td>5</td>\n",
              "      <td>Dominic</td>\n",
              "      <td>45</td>\n",
              "      <td>58</td>\n",
              "    </tr>\n",
              "    <tr>\n",
              "      <th>4</th>\n",
              "      <td>6</td>\n",
              "      <td>Akiko</td>\n",
              "      <td>87</td>\n",
              "      <td>66</td>\n",
              "    </tr>\n",
              "  </tbody>\n",
              "</table>\n",
              "</div>"
            ],
            "text/plain": [
              "   student_number     name  math  science\n",
              "0               1     Jack    32       19\n",
              "1               2     John    73       63\n",
              "2               3    Alice    90       85\n",
              "3               5  Dominic    45       58\n",
              "4               6    Akiko    87       66"
            ]
          },
          "metadata": {
            "tags": []
          },
          "execution_count": 7
        }
      ]
    },
    {
      "cell_type": "code",
      "metadata": {
        "id": "ky4M3i51kN4K",
        "colab_type": "code",
        "colab": {
          "base_uri": "https://localhost:8080/",
          "height": 197
        },
        "outputId": "5df8775c-f10b-47ec-efec-9e9bdbcb9f8b"
      },
      "source": [
        "df3_df4 = pd.merge(df3, df4, on=[\"student_number\", \"name\"], how=\"inner\")\n",
        "df3_df4"
      ],
      "execution_count": 16,
      "outputs": [
        {
          "output_type": "execute_result",
          "data": {
            "text/html": [
              "<div>\n",
              "<style scoped>\n",
              "    .dataframe tbody tr th:only-of-type {\n",
              "        vertical-align: middle;\n",
              "    }\n",
              "\n",
              "    .dataframe tbody tr th {\n",
              "        vertical-align: top;\n",
              "    }\n",
              "\n",
              "    .dataframe thead th {\n",
              "        text-align: right;\n",
              "    }\n",
              "</style>\n",
              "<table border=\"1\" class=\"dataframe\">\n",
              "  <thead>\n",
              "    <tr style=\"text-align: right;\">\n",
              "      <th></th>\n",
              "      <th>student_number</th>\n",
              "      <th>name</th>\n",
              "      <th>age</th>\n",
              "      <th>nationality</th>\n",
              "      <th>math</th>\n",
              "      <th>science</th>\n",
              "    </tr>\n",
              "  </thead>\n",
              "  <tbody>\n",
              "    <tr>\n",
              "      <th>0</th>\n",
              "      <td>1</td>\n",
              "      <td>Jack</td>\n",
              "      <td>7</td>\n",
              "      <td>England</td>\n",
              "      <td>32</td>\n",
              "      <td>19</td>\n",
              "    </tr>\n",
              "    <tr>\n",
              "      <th>1</th>\n",
              "      <td>2</td>\n",
              "      <td>John</td>\n",
              "      <td>10</td>\n",
              "      <td>United States</td>\n",
              "      <td>73</td>\n",
              "      <td>63</td>\n",
              "    </tr>\n",
              "    <tr>\n",
              "      <th>2</th>\n",
              "      <td>3</td>\n",
              "      <td>Alice</td>\n",
              "      <td>12</td>\n",
              "      <td>England</td>\n",
              "      <td>90</td>\n",
              "      <td>85</td>\n",
              "    </tr>\n",
              "    <tr>\n",
              "      <th>3</th>\n",
              "      <td>5</td>\n",
              "      <td>Dominic</td>\n",
              "      <td>8</td>\n",
              "      <td>Germany</td>\n",
              "      <td>45</td>\n",
              "      <td>58</td>\n",
              "    </tr>\n",
              "    <tr>\n",
              "      <th>4</th>\n",
              "      <td>6</td>\n",
              "      <td>Akiko</td>\n",
              "      <td>11</td>\n",
              "      <td>Japan</td>\n",
              "      <td>87</td>\n",
              "      <td>66</td>\n",
              "    </tr>\n",
              "  </tbody>\n",
              "</table>\n",
              "</div>"
            ],
            "text/plain": [
              "   student_number     name  age    nationality  math  science\n",
              "0               1     Jack    7        England    32       19\n",
              "1               2     John   10  United States    73       63\n",
              "2               3    Alice   12        England    90       85\n",
              "3               5  Dominic    8        Germany    45       58\n",
              "4               6    Akiko   11          Japan    87       66"
            ]
          },
          "metadata": {
            "tags": []
          },
          "execution_count": 16
        }
      ]
    },
    {
      "cell_type": "code",
      "metadata": {
        "id": "Md9ZW91fgOz_",
        "colab_type": "code",
        "colab": {}
      },
      "source": [
        "df3_df4.to_csv(\"class_grade.csv\",index=False)"
      ],
      "execution_count": 0,
      "outputs": []
    },
    {
      "cell_type": "markdown",
      "metadata": {
        "id": "T0PaMfoojdAw",
        "colab_type": "text"
      },
      "source": [
        ""
      ]
    }
  ]
}