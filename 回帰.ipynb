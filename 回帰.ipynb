{
  "nbformat": 4,
  "nbformat_minor": 0,
  "metadata": {
    "colab": {
      "name": "回帰.ipynb",
      "provenance": [],
      "authorship_tag": "ABX9TyM5XNgjFNOY7X29PM+9ic0c",
      "include_colab_link": true
    },
    "kernelspec": {
      "name": "python3",
      "display_name": "Python 3"
    }
  },
  "cells": [
    {
      "cell_type": "markdown",
      "metadata": {
        "id": "view-in-github",
        "colab_type": "text"
      },
      "source": [
        "<a href=\"https://colab.research.google.com/github/akipi-ro/b/blob/master/%E5%9B%9E%E5%B8%B0.ipynb\" target=\"_parent\"><img src=\"https://colab.research.google.com/assets/colab-badge.svg\" alt=\"Open In Colab\"/></a>"
      ]
    },
    {
      "cell_type": "code",
      "metadata": {
        "id": "jTqflnAj8LIr",
        "colab_type": "code",
        "colab": {}
      },
      "source": [
        "import numpy as np\n",
        "import pandas as pd\n",
        "import sklearn "
      ],
      "execution_count": 0,
      "outputs": []
    },
    {
      "cell_type": "code",
      "metadata": {
        "id": "7fQhYmaq4kAJ",
        "colab_type": "code",
        "colab": {
          "base_uri": "https://localhost:8080/",
          "height": 197
        },
        "outputId": "f5392cc8-3cb4-4e33-a842-55bb772fc5bb"
      },
      "source": [
        "houseprice = pd.read_csv(\"houseprice_text.csv\")\n",
        "houseprice.head()"
      ],
      "execution_count": 206,
      "outputs": [
        {
          "output_type": "execute_result",
          "data": {
            "text/html": [
              "<div>\n",
              "<style scoped>\n",
              "    .dataframe tbody tr th:only-of-type {\n",
              "        vertical-align: middle;\n",
              "    }\n",
              "\n",
              "    .dataframe tbody tr th {\n",
              "        vertical-align: top;\n",
              "    }\n",
              "\n",
              "    .dataframe thead th {\n",
              "        text-align: right;\n",
              "    }\n",
              "</style>\n",
              "<table border=\"1\" class=\"dataframe\">\n",
              "  <thead>\n",
              "    <tr style=\"text-align: right;\">\n",
              "      <th></th>\n",
              "      <th>Id</th>\n",
              "      <th>SalePrice</th>\n",
              "      <th>OverallQual</th>\n",
              "      <th>GrLivArea</th>\n",
              "      <th>GarageCars</th>\n",
              "      <th>TotRmsAbvGrd</th>\n",
              "      <th>YearBuilt</th>\n",
              "      <th>KitchenQual</th>\n",
              "      <th>ExterQual</th>\n",
              "    </tr>\n",
              "  </thead>\n",
              "  <tbody>\n",
              "    <tr>\n",
              "      <th>0</th>\n",
              "      <td>1</td>\n",
              "      <td>208500</td>\n",
              "      <td>7</td>\n",
              "      <td>1710</td>\n",
              "      <td>2</td>\n",
              "      <td>8</td>\n",
              "      <td>2003</td>\n",
              "      <td>2</td>\n",
              "      <td>2</td>\n",
              "    </tr>\n",
              "    <tr>\n",
              "      <th>1</th>\n",
              "      <td>4</td>\n",
              "      <td>140000</td>\n",
              "      <td>7</td>\n",
              "      <td>1717</td>\n",
              "      <td>3</td>\n",
              "      <td>7</td>\n",
              "      <td>1915</td>\n",
              "      <td>2</td>\n",
              "      <td>3</td>\n",
              "    </tr>\n",
              "    <tr>\n",
              "      <th>2</th>\n",
              "      <td>7</td>\n",
              "      <td>307000</td>\n",
              "      <td>8</td>\n",
              "      <td>1694</td>\n",
              "      <td>2</td>\n",
              "      <td>7</td>\n",
              "      <td>2004</td>\n",
              "      <td>2</td>\n",
              "      <td>2</td>\n",
              "    </tr>\n",
              "    <tr>\n",
              "      <th>3</th>\n",
              "      <td>8</td>\n",
              "      <td>200000</td>\n",
              "      <td>7</td>\n",
              "      <td>2090</td>\n",
              "      <td>2</td>\n",
              "      <td>7</td>\n",
              "      <td>1973</td>\n",
              "      <td>3</td>\n",
              "      <td>3</td>\n",
              "    </tr>\n",
              "    <tr>\n",
              "      <th>4</th>\n",
              "      <td>9</td>\n",
              "      <td>129900</td>\n",
              "      <td>7</td>\n",
              "      <td>1774</td>\n",
              "      <td>2</td>\n",
              "      <td>8</td>\n",
              "      <td>1931</td>\n",
              "      <td>3</td>\n",
              "      <td>3</td>\n",
              "    </tr>\n",
              "  </tbody>\n",
              "</table>\n",
              "</div>"
            ],
            "text/plain": [
              "   Id  SalePrice  OverallQual  ...  YearBuilt  KitchenQual  ExterQual\n",
              "0   1     208500            7  ...       2003            2          2\n",
              "1   4     140000            7  ...       1915            2          3\n",
              "2   7     307000            8  ...       2004            2          2\n",
              "3   8     200000            7  ...       1973            3          3\n",
              "4   9     129900            7  ...       1931            3          3\n",
              "\n",
              "[5 rows x 9 columns]"
            ]
          },
          "metadata": {
            "tags": []
          },
          "execution_count": 206
        }
      ]
    },
    {
      "cell_type": "code",
      "metadata": {
        "id": "ZT5uMhhB6Gbo",
        "colab_type": "code",
        "colab": {}
      },
      "source": [
        "y = houseprice[\"SalePrice\"]\n",
        "X = houseprice.drop([\"Id\",\"SalePrice\"],axis = 1)"
      ],
      "execution_count": 0,
      "outputs": []
    },
    {
      "cell_type": "code",
      "metadata": {
        "id": "zICgc7TO462d",
        "colab_type": "code",
        "colab": {}
      },
      "source": [
        "y_array = np.array(y)\n",
        "X_array = np.array(X)"
      ],
      "execution_count": 0,
      "outputs": []
    },
    {
      "cell_type": "markdown",
      "metadata": {
        "id": "npx5jvrY6pGX",
        "colab_type": "text"
      },
      "source": [
        "目的変数を設定し、説明変数の余分なものを削除した"
      ]
    },
    {
      "cell_type": "code",
      "metadata": {
        "id": "qkfJnV7N6lVJ",
        "colab_type": "code",
        "colab": {
          "base_uri": "https://localhost:8080/",
          "height": 50
        },
        "outputId": "68d2c33f-6791-4d9a-9608-c9356a42fcbd"
      },
      "source": [
        "print(y_array.shape)\n",
        "X_array.shape"
      ],
      "execution_count": 209,
      "outputs": [
        {
          "output_type": "stream",
          "text": [
            "(1168,)\n"
          ],
          "name": "stdout"
        },
        {
          "output_type": "execute_result",
          "data": {
            "text/plain": [
              "(1168, 7)"
            ]
          },
          "metadata": {
            "tags": []
          },
          "execution_count": 209
        }
      ]
    },
    {
      "cell_type": "markdown",
      "metadata": {
        "id": "JDI-rhtS7msN",
        "colab_type": "text"
      },
      "source": [
        "1列はおそらく省略される\n",
        "説明変数は７行ある"
      ]
    },
    {
      "cell_type": "code",
      "metadata": {
        "id": "ET1HtIX068Qm",
        "colab_type": "code",
        "colab": {}
      },
      "source": [
        "from sklearn.model_selection import train_test_split"
      ],
      "execution_count": 0,
      "outputs": []
    },
    {
      "cell_type": "code",
      "metadata": {
        "id": "t0oiQUsn8HwD",
        "colab_type": "code",
        "colab": {}
      },
      "source": [
        "X_train,X_test,y_train,y_test = train_test_split(X_array,y_array,test_size = 0.3,random_state =0)"
      ],
      "execution_count": 0,
      "outputs": []
    },
    {
      "cell_type": "markdown",
      "metadata": {
        "id": "18zwRZlc8dIi",
        "colab_type": "text"
      },
      "source": [
        ""
      ]
    },
    {
      "cell_type": "code",
      "metadata": {
        "id": "grjb476T8ooO",
        "colab_type": "code",
        "colab": {
          "base_uri": "https://localhost:8080/",
          "height": 83
        },
        "outputId": "631dfaa2-c88d-4df1-87b9-5180fafde41c"
      },
      "source": [
        "print(X_train.shape) \n",
        "print(y_train.shape)\n",
        "\n",
        "print(X_test.shape)\n",
        "print(y_test.shape)"
      ],
      "execution_count": 212,
      "outputs": [
        {
          "output_type": "stream",
          "text": [
            "(817, 7)\n",
            "(817,)\n",
            "(351, 7)\n",
            "(351,)\n"
          ],
          "name": "stdout"
        }
      ]
    },
    {
      "cell_type": "markdown",
      "metadata": {
        "id": "05wXa_9z-m9N",
        "colab_type": "text"
      },
      "source": [
        "トレーニングデータで目的と説明変数がどちらも学習用に使われる\n",
        "テストでは説明変数側が判断材料として使われ、目的変数で精度を出すために使われる"
      ]
    },
    {
      "cell_type": "code",
      "metadata": {
        "id": "R9bdCWNV9aqr",
        "colab_type": "code",
        "colab": {}
      },
      "source": [
        "from sklearn.ensemble import RandomForestRegressor"
      ],
      "execution_count": 0,
      "outputs": []
    },
    {
      "cell_type": "code",
      "metadata": {
        "id": "yb42LXe8-XZa",
        "colab_type": "code",
        "colab": {}
      },
      "source": [
        "rfr = RandomForestRegressor(random_state=0)"
      ],
      "execution_count": 0,
      "outputs": []
    },
    {
      "cell_type": "markdown",
      "metadata": {
        "id": "3DzNYTuV_NLO",
        "colab_type": "text"
      },
      "source": [
        "モデルを生成"
      ]
    },
    {
      "cell_type": "code",
      "metadata": {
        "id": "7W3aGDl7-jWn",
        "colab_type": "code",
        "colab": {
          "base_uri": "https://localhost:8080/",
          "height": 133
        },
        "outputId": "81397d4f-ba50-47e4-cfd0-a12e7f0bf095"
      },
      "source": [
        "rfr.fit(X_train,y_train)"
      ],
      "execution_count": 215,
      "outputs": [
        {
          "output_type": "execute_result",
          "data": {
            "text/plain": [
              "RandomForestRegressor(bootstrap=True, ccp_alpha=0.0, criterion='mse',\n",
              "                      max_depth=None, max_features='auto', max_leaf_nodes=None,\n",
              "                      max_samples=None, min_impurity_decrease=0.0,\n",
              "                      min_impurity_split=None, min_samples_leaf=1,\n",
              "                      min_samples_split=2, min_weight_fraction_leaf=0.0,\n",
              "                      n_estimators=100, n_jobs=None, oob_score=False,\n",
              "                      random_state=0, verbose=0, warm_start=False)"
            ]
          },
          "metadata": {
            "tags": []
          },
          "execution_count": 215
        }
      ]
    },
    {
      "cell_type": "markdown",
      "metadata": {
        "id": "DwrzY4GM-ktJ",
        "colab_type": "text"
      },
      "source": [
        "学習した"
      ]
    },
    {
      "cell_type": "code",
      "metadata": {
        "id": "ounlgs4d_gdt",
        "colab_type": "code",
        "colab": {
          "base_uri": "https://localhost:8080/",
          "height": 33
        },
        "outputId": "b3d3d7d1-e943-4703-877d-9c42ce04e4f8"
      },
      "source": [
        "y_pred = rfr.predict(X_test)\n",
        "y_pred.shape"
      ],
      "execution_count": 216,
      "outputs": [
        {
          "output_type": "execute_result",
          "data": {
            "text/plain": [
              "(351,)"
            ]
          },
          "metadata": {
            "tags": []
          },
          "execution_count": 216
        }
      ]
    },
    {
      "cell_type": "code",
      "metadata": {
        "id": "kDyIbzxD_wv2",
        "colab_type": "code",
        "colab": {
          "base_uri": "https://localhost:8080/",
          "height": 33
        },
        "outputId": "8814d1c7-711a-4847-ff40-64f2a25737e5"
      },
      "source": [
        "from sklearn.metrics import mean_squared_error\n",
        "np.sqrt(mean_squared_error(y_pred,y_test))"
      ],
      "execution_count": 217,
      "outputs": [
        {
          "output_type": "execute_result",
          "data": {
            "text/plain": [
              "39209.29968179275"
            ]
          },
          "metadata": {
            "tags": []
          },
          "execution_count": 217
        }
      ]
    },
    {
      "cell_type": "markdown",
      "metadata": {
        "id": "aswXm_UAByih",
        "colab_type": "text"
      },
      "source": [
        "目的変数トレーニングデータと目的変数テストデータを比較してどのくらいの誤差かを調べる"
      ]
    },
    {
      "cell_type": "code",
      "metadata": {
        "id": "i1Uqg_MOBdTN",
        "colab_type": "code",
        "colab": {}
      },
      "source": [
        "houseprice_assignment = pd.read_csv(\"houseprice_assignment_question.csv\")\n"
      ],
      "execution_count": 0,
      "outputs": []
    },
    {
      "cell_type": "code",
      "metadata": {
        "id": "dCnrNe5_DpWl",
        "colab_type": "code",
        "colab": {}
      },
      "source": [
        "# y2 =houseprice_assignment[\"SalePrice\"]\n",
        "X2 =houseprice_assignment.drop([\"Id\"],axis = 1)"
      ],
      "execution_count": 0,
      "outputs": []
    },
    {
      "cell_type": "code",
      "metadata": {
        "id": "Bk9q9QPECgQ7",
        "colab_type": "code",
        "colab": {
          "base_uri": "https://localhost:8080/",
          "height": 33
        },
        "outputId": "2f9dc15e-fbb9-4014-9011-1cad5b2bbb33"
      },
      "source": [
        "# y2_array = np.array(y2)\n",
        "X2_array = np.array(X2)\n",
        "X2_array.shape"
      ],
      "execution_count": 220,
      "outputs": [
        {
          "output_type": "execute_result",
          "data": {
            "text/plain": [
              "(292, 7)"
            ]
          },
          "metadata": {
            "tags": []
          },
          "execution_count": 220
        }
      ]
    },
    {
      "cell_type": "code",
      "metadata": {
        "id": "hKoq9aq7nuyp",
        "colab_type": "code",
        "colab": {
          "base_uri": "https://localhost:8080/",
          "height": 133
        },
        "outputId": "de108d42-8e22-4aa5-a2ce-2c2114faba66"
      },
      "source": [
        "X2_array"
      ],
      "execution_count": 221,
      "outputs": [
        {
          "output_type": "execute_result",
          "data": {
            "text/plain": [
              "array([[   6, 1262,    2, ..., 1976,    3,    3],\n",
              "       [   7, 1786,    2, ..., 2001,    2,    2],\n",
              "       [   8, 2198,    3, ..., 2000,    2,    2],\n",
              "       ...,\n",
              "       [   6, 1440,    2, ..., 1981,    2,    2],\n",
              "       [   5, 1792,    0, ..., 1974,    3,    3],\n",
              "       [   5, 1072,    2, ..., 2005,    3,    3]])"
            ]
          },
          "metadata": {
            "tags": []
          },
          "execution_count": 221
        }
      ]
    },
    {
      "cell_type": "code",
      "metadata": {
        "id": "MrAxFl7mFXb0",
        "colab_type": "code",
        "colab": {
          "base_uri": "https://localhost:8080/",
          "height": 33
        },
        "outputId": "29b853b5-afbe-4130-cfc0-34442d4db8d1"
      },
      "source": [
        "y2_pred =rfr.predict(X2_array)\n",
        "y2_pred.shape"
      ],
      "execution_count": 222,
      "outputs": [
        {
          "output_type": "execute_result",
          "data": {
            "text/plain": [
              "(292,)"
            ]
          },
          "metadata": {
            "tags": []
          },
          "execution_count": 222
        }
      ]
    },
    {
      "cell_type": "code",
      "metadata": {
        "id": "bh3KG7PUFqYY",
        "colab_type": "code",
        "colab": {}
      },
      "source": [
        "pread_fomat =pd.DataFrame({\"Id\" : houseprice_assignment[\"Id\"],\"SalePrice\" : y2_pred})"
      ],
      "execution_count": 0,
      "outputs": []
    },
    {
      "cell_type": "code",
      "metadata": {
        "id": "_MdRjNoJGysg",
        "colab_type": "code",
        "colab": {
          "base_uri": "https://localhost:8080/",
          "height": 406
        },
        "outputId": "40486721-7e3f-4fe4-8e03-3f3f404d96fd"
      },
      "source": [
        "pread_fomat"
      ],
      "execution_count": 224,
      "outputs": [
        {
          "output_type": "execute_result",
          "data": {
            "text/html": [
              "<div>\n",
              "<style scoped>\n",
              "    .dataframe tbody tr th:only-of-type {\n",
              "        vertical-align: middle;\n",
              "    }\n",
              "\n",
              "    .dataframe tbody tr th {\n",
              "        vertical-align: top;\n",
              "    }\n",
              "\n",
              "    .dataframe thead th {\n",
              "        text-align: right;\n",
              "    }\n",
              "</style>\n",
              "<table border=\"1\" class=\"dataframe\">\n",
              "  <thead>\n",
              "    <tr style=\"text-align: right;\">\n",
              "      <th></th>\n",
              "      <th>Id</th>\n",
              "      <th>SalePrice</th>\n",
              "    </tr>\n",
              "  </thead>\n",
              "  <tbody>\n",
              "    <tr>\n",
              "      <th>0</th>\n",
              "      <td>2</td>\n",
              "      <td>157611.850000</td>\n",
              "    </tr>\n",
              "    <tr>\n",
              "      <th>1</th>\n",
              "      <td>3</td>\n",
              "      <td>218321.750000</td>\n",
              "    </tr>\n",
              "    <tr>\n",
              "      <th>2</th>\n",
              "      <td>5</td>\n",
              "      <td>326302.720000</td>\n",
              "    </tr>\n",
              "    <tr>\n",
              "      <th>3</th>\n",
              "      <td>6</td>\n",
              "      <td>165433.250000</td>\n",
              "    </tr>\n",
              "    <tr>\n",
              "      <th>4</th>\n",
              "      <td>10</td>\n",
              "      <td>102769.450000</td>\n",
              "    </tr>\n",
              "    <tr>\n",
              "      <th>...</th>\n",
              "      <td>...</td>\n",
              "      <td>...</td>\n",
              "    </tr>\n",
              "    <tr>\n",
              "      <th>287</th>\n",
              "      <td>1416</td>\n",
              "      <td>198032.340000</td>\n",
              "    </tr>\n",
              "    <tr>\n",
              "      <th>288</th>\n",
              "      <td>1428</td>\n",
              "      <td>142652.000000</td>\n",
              "    </tr>\n",
              "    <tr>\n",
              "      <th>289</th>\n",
              "      <td>1430</td>\n",
              "      <td>174729.925000</td>\n",
              "    </tr>\n",
              "    <tr>\n",
              "      <th>290</th>\n",
              "      <td>1451</td>\n",
              "      <td>150182.370000</td>\n",
              "    </tr>\n",
              "    <tr>\n",
              "      <th>291</th>\n",
              "      <td>1453</td>\n",
              "      <td>151308.166667</td>\n",
              "    </tr>\n",
              "  </tbody>\n",
              "</table>\n",
              "<p>292 rows × 2 columns</p>\n",
              "</div>"
            ],
            "text/plain": [
              "       Id      SalePrice\n",
              "0       2  157611.850000\n",
              "1       3  218321.750000\n",
              "2       5  326302.720000\n",
              "3       6  165433.250000\n",
              "4      10  102769.450000\n",
              "..    ...            ...\n",
              "287  1416  198032.340000\n",
              "288  1428  142652.000000\n",
              "289  1430  174729.925000\n",
              "290  1451  150182.370000\n",
              "291  1453  151308.166667\n",
              "\n",
              "[292 rows x 2 columns]"
            ]
          },
          "metadata": {
            "tags": []
          },
          "execution_count": 224
        }
      ]
    },
    {
      "cell_type": "code",
      "metadata": {
        "id": "ej-3fAlIG2ZQ",
        "colab_type": "code",
        "colab": {}
      },
      "source": [
        "pread_fomat.to_csv(\"A.csv\",index=False)"
      ],
      "execution_count": 0,
      "outputs": []
    },
    {
      "cell_type": "code",
      "metadata": {
        "id": "3wKFy5tDHBf3",
        "colab_type": "code",
        "colab": {}
      },
      "source": [
        "# np.sqrt(mean_squared_error(y_pred,yte))"
      ],
      "execution_count": 0,
      "outputs": []
    },
    {
      "cell_type": "code",
      "metadata": {
        "id": "eWFpPl97Hnbf",
        "colab_type": "code",
        "colab": {
          "base_uri": "https://localhost:8080/",
          "height": 197
        },
        "outputId": "7b094b53-81dc-4f44-f48a-085e3f027e4c"
      },
      "source": [
        "pread_fomat.head()"
      ],
      "execution_count": 227,
      "outputs": [
        {
          "output_type": "execute_result",
          "data": {
            "text/html": [
              "<div>\n",
              "<style scoped>\n",
              "    .dataframe tbody tr th:only-of-type {\n",
              "        vertical-align: middle;\n",
              "    }\n",
              "\n",
              "    .dataframe tbody tr th {\n",
              "        vertical-align: top;\n",
              "    }\n",
              "\n",
              "    .dataframe thead th {\n",
              "        text-align: right;\n",
              "    }\n",
              "</style>\n",
              "<table border=\"1\" class=\"dataframe\">\n",
              "  <thead>\n",
              "    <tr style=\"text-align: right;\">\n",
              "      <th></th>\n",
              "      <th>Id</th>\n",
              "      <th>SalePrice</th>\n",
              "    </tr>\n",
              "  </thead>\n",
              "  <tbody>\n",
              "    <tr>\n",
              "      <th>0</th>\n",
              "      <td>2</td>\n",
              "      <td>157611.85</td>\n",
              "    </tr>\n",
              "    <tr>\n",
              "      <th>1</th>\n",
              "      <td>3</td>\n",
              "      <td>218321.75</td>\n",
              "    </tr>\n",
              "    <tr>\n",
              "      <th>2</th>\n",
              "      <td>5</td>\n",
              "      <td>326302.72</td>\n",
              "    </tr>\n",
              "    <tr>\n",
              "      <th>3</th>\n",
              "      <td>6</td>\n",
              "      <td>165433.25</td>\n",
              "    </tr>\n",
              "    <tr>\n",
              "      <th>4</th>\n",
              "      <td>10</td>\n",
              "      <td>102769.45</td>\n",
              "    </tr>\n",
              "  </tbody>\n",
              "</table>\n",
              "</div>"
            ],
            "text/plain": [
              "   Id  SalePrice\n",
              "0   2  157611.85\n",
              "1   3  218321.75\n",
              "2   5  326302.72\n",
              "3   6  165433.25\n",
              "4  10  102769.45"
            ]
          },
          "metadata": {
            "tags": []
          },
          "execution_count": 227
        }
      ]
    },
    {
      "cell_type": "code",
      "metadata": {
        "id": "mXhydsbV3QEj",
        "colab_type": "code",
        "colab": {}
      },
      "source": [
        ""
      ],
      "execution_count": 0,
      "outputs": []
    }
  ]
}